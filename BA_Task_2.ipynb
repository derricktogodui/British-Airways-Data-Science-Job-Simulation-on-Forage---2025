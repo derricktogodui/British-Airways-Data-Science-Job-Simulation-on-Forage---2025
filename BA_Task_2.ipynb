{
 "cells": [
  {
   "cell_type": "markdown",
   "id": "ae660484",
   "metadata": {},
   "source": [
    "# British Airways Customer Booking Prediction Task 2"
   ]
  },
  {
   "cell_type": "code",
   "execution_count": 9,
   "id": "d3b1f282",
   "metadata": {},
   "outputs": [],
   "source": [
    "import pandas as pd"
   ]
  },
  {
   "cell_type": "markdown",
   "id": "03017cfc",
   "metadata": {},
   "source": [
    "# Imported the CSV file"
   ]
  },
  {
   "cell_type": "code",
   "execution_count": 10,
   "id": "99fa5819",
   "metadata": {},
   "outputs": [
    {
     "data": {
      "text/html": [
       "<div>\n",
       "<style scoped>\n",
       "    .dataframe tbody tr th:only-of-type {\n",
       "        vertical-align: middle;\n",
       "    }\n",
       "\n",
       "    .dataframe tbody tr th {\n",
       "        vertical-align: top;\n",
       "    }\n",
       "\n",
       "    .dataframe thead th {\n",
       "        text-align: right;\n",
       "    }\n",
       "</style>\n",
       "<table border=\"1\" class=\"dataframe\">\n",
       "  <thead>\n",
       "    <tr style=\"text-align: right;\">\n",
       "      <th></th>\n",
       "      <th>num_passengers</th>\n",
       "      <th>sales_channel</th>\n",
       "      <th>trip_type</th>\n",
       "      <th>purchase_lead</th>\n",
       "      <th>length_of_stay</th>\n",
       "      <th>flight_hour</th>\n",
       "      <th>flight_day</th>\n",
       "      <th>route</th>\n",
       "      <th>booking_origin</th>\n",
       "      <th>wants_extra_baggage</th>\n",
       "      <th>wants_preferred_seat</th>\n",
       "      <th>wants_in_flight_meals</th>\n",
       "      <th>flight_duration</th>\n",
       "      <th>booking_complete</th>\n",
       "    </tr>\n",
       "  </thead>\n",
       "  <tbody>\n",
       "    <tr>\n",
       "      <th>0</th>\n",
       "      <td>2</td>\n",
       "      <td>Internet</td>\n",
       "      <td>RoundTrip</td>\n",
       "      <td>262</td>\n",
       "      <td>19</td>\n",
       "      <td>7</td>\n",
       "      <td>Sat</td>\n",
       "      <td>AKLDEL</td>\n",
       "      <td>New Zealand</td>\n",
       "      <td>1</td>\n",
       "      <td>0</td>\n",
       "      <td>0</td>\n",
       "      <td>5.52</td>\n",
       "      <td>0</td>\n",
       "    </tr>\n",
       "    <tr>\n",
       "      <th>1</th>\n",
       "      <td>1</td>\n",
       "      <td>Internet</td>\n",
       "      <td>RoundTrip</td>\n",
       "      <td>112</td>\n",
       "      <td>20</td>\n",
       "      <td>3</td>\n",
       "      <td>Sat</td>\n",
       "      <td>AKLDEL</td>\n",
       "      <td>New Zealand</td>\n",
       "      <td>0</td>\n",
       "      <td>0</td>\n",
       "      <td>0</td>\n",
       "      <td>5.52</td>\n",
       "      <td>0</td>\n",
       "    </tr>\n",
       "    <tr>\n",
       "      <th>2</th>\n",
       "      <td>2</td>\n",
       "      <td>Internet</td>\n",
       "      <td>RoundTrip</td>\n",
       "      <td>243</td>\n",
       "      <td>22</td>\n",
       "      <td>17</td>\n",
       "      <td>Wed</td>\n",
       "      <td>AKLDEL</td>\n",
       "      <td>India</td>\n",
       "      <td>1</td>\n",
       "      <td>1</td>\n",
       "      <td>0</td>\n",
       "      <td>5.52</td>\n",
       "      <td>0</td>\n",
       "    </tr>\n",
       "    <tr>\n",
       "      <th>3</th>\n",
       "      <td>1</td>\n",
       "      <td>Internet</td>\n",
       "      <td>RoundTrip</td>\n",
       "      <td>96</td>\n",
       "      <td>31</td>\n",
       "      <td>4</td>\n",
       "      <td>Sat</td>\n",
       "      <td>AKLDEL</td>\n",
       "      <td>New Zealand</td>\n",
       "      <td>0</td>\n",
       "      <td>0</td>\n",
       "      <td>1</td>\n",
       "      <td>5.52</td>\n",
       "      <td>0</td>\n",
       "    </tr>\n",
       "    <tr>\n",
       "      <th>4</th>\n",
       "      <td>2</td>\n",
       "      <td>Internet</td>\n",
       "      <td>RoundTrip</td>\n",
       "      <td>68</td>\n",
       "      <td>22</td>\n",
       "      <td>15</td>\n",
       "      <td>Wed</td>\n",
       "      <td>AKLDEL</td>\n",
       "      <td>India</td>\n",
       "      <td>1</td>\n",
       "      <td>0</td>\n",
       "      <td>1</td>\n",
       "      <td>5.52</td>\n",
       "      <td>0</td>\n",
       "    </tr>\n",
       "  </tbody>\n",
       "</table>\n",
       "</div>"
      ],
      "text/plain": [
       "   num_passengers sales_channel  trip_type  purchase_lead  length_of_stay  \\\n",
       "0               2      Internet  RoundTrip            262              19   \n",
       "1               1      Internet  RoundTrip            112              20   \n",
       "2               2      Internet  RoundTrip            243              22   \n",
       "3               1      Internet  RoundTrip             96              31   \n",
       "4               2      Internet  RoundTrip             68              22   \n",
       "\n",
       "   flight_hour flight_day   route booking_origin  wants_extra_baggage  \\\n",
       "0            7        Sat  AKLDEL    New Zealand                    1   \n",
       "1            3        Sat  AKLDEL    New Zealand                    0   \n",
       "2           17        Wed  AKLDEL          India                    1   \n",
       "3            4        Sat  AKLDEL    New Zealand                    0   \n",
       "4           15        Wed  AKLDEL          India                    1   \n",
       "\n",
       "   wants_preferred_seat  wants_in_flight_meals  flight_duration  \\\n",
       "0                     0                      0             5.52   \n",
       "1                     0                      0             5.52   \n",
       "2                     1                      0             5.52   \n",
       "3                     0                      1             5.52   \n",
       "4                     0                      1             5.52   \n",
       "\n",
       "   booking_complete  \n",
       "0                 0  \n",
       "1                 0  \n",
       "2                 0  \n",
       "3                 0  \n",
       "4                 0  "
      ]
     },
     "execution_count": 10,
     "metadata": {},
     "output_type": "execute_result"
    }
   ],
   "source": [
    "df = pd.read_csv(r\"C:\\Users\\Derek Winters\\Downloads\\customer_booking.csv\", encoding='ISO-8859-1')\n",
    "df.head()"
   ]
  },
  {
   "cell_type": "markdown",
   "id": "1422c348",
   "metadata": {},
   "source": [
    "# Check unique values in the flight_day column"
   ]
  },
  {
   "cell_type": "code",
   "execution_count": 11,
   "id": "c4be1511",
   "metadata": {},
   "outputs": [
    {
     "data": {
      "text/plain": [
       "array(['Sat', 'Wed', 'Thu', 'Mon', 'Sun', 'Tue', 'Fri'], dtype=object)"
      ]
     },
     "execution_count": 11,
     "metadata": {},
     "output_type": "execute_result"
    }
   ],
   "source": [
    "df[\"flight_day\"].unique()"
   ]
  },
  {
   "cell_type": "markdown",
   "id": "2a3b45ce",
   "metadata": {},
   "source": [
    "# Map days of the week to numeric values:"
   ]
  },
  {
   "cell_type": "code",
   "execution_count": 12,
   "id": "dcde09fb",
   "metadata": {},
   "outputs": [],
   "source": [
    "mapping = {\n",
    "    \"Mon\": 1,\n",
    "    \"Tue\": 2,\n",
    "    \"Wed\": 3,\n",
    "    \"Thu\": 4,\n",
    "    \"Fri\": 5,\n",
    "    \"Sat\": 6,\n",
    "    \"Sun\": 7,\n",
    "}\n",
    "\n",
    "df[\"flight_day\"] = df[\"flight_day\"].map(mapping)"
   ]
  },
  {
   "cell_type": "code",
   "execution_count": 13,
   "id": "8bf08171",
   "metadata": {},
   "outputs": [
    {
     "data": {
      "text/plain": [
       "array([6, 3, 4, 1, 7, 2, 5], dtype=int64)"
      ]
     },
     "execution_count": 13,
     "metadata": {},
     "output_type": "execute_result"
    }
   ],
   "source": [
    "df[\"flight_day\"].unique()"
   ]
  },
  {
   "cell_type": "markdown",
   "id": "030baecb",
   "metadata": {},
   "source": [
    "# Descriptive statistics"
   ]
  },
  {
   "cell_type": "code",
   "execution_count": 14,
   "id": "83158ecd",
   "metadata": {},
   "outputs": [
    {
     "data": {
      "text/html": [
       "<div>\n",
       "<style scoped>\n",
       "    .dataframe tbody tr th:only-of-type {\n",
       "        vertical-align: middle;\n",
       "    }\n",
       "\n",
       "    .dataframe tbody tr th {\n",
       "        vertical-align: top;\n",
       "    }\n",
       "\n",
       "    .dataframe thead th {\n",
       "        text-align: right;\n",
       "    }\n",
       "</style>\n",
       "<table border=\"1\" class=\"dataframe\">\n",
       "  <thead>\n",
       "    <tr style=\"text-align: right;\">\n",
       "      <th></th>\n",
       "      <th>num_passengers</th>\n",
       "      <th>purchase_lead</th>\n",
       "      <th>length_of_stay</th>\n",
       "      <th>flight_hour</th>\n",
       "      <th>flight_day</th>\n",
       "      <th>wants_extra_baggage</th>\n",
       "      <th>wants_preferred_seat</th>\n",
       "      <th>wants_in_flight_meals</th>\n",
       "      <th>flight_duration</th>\n",
       "      <th>booking_complete</th>\n",
       "    </tr>\n",
       "  </thead>\n",
       "  <tbody>\n",
       "    <tr>\n",
       "      <th>count</th>\n",
       "      <td>50000.000000</td>\n",
       "      <td>50000.000000</td>\n",
       "      <td>50000.00000</td>\n",
       "      <td>50000.00000</td>\n",
       "      <td>50000.000000</td>\n",
       "      <td>50000.000000</td>\n",
       "      <td>50000.000000</td>\n",
       "      <td>50000.000000</td>\n",
       "      <td>50000.000000</td>\n",
       "      <td>50000.000000</td>\n",
       "    </tr>\n",
       "    <tr>\n",
       "      <th>mean</th>\n",
       "      <td>1.591240</td>\n",
       "      <td>84.940480</td>\n",
       "      <td>23.04456</td>\n",
       "      <td>9.06634</td>\n",
       "      <td>3.814420</td>\n",
       "      <td>0.668780</td>\n",
       "      <td>0.296960</td>\n",
       "      <td>0.427140</td>\n",
       "      <td>7.277561</td>\n",
       "      <td>0.149560</td>\n",
       "    </tr>\n",
       "    <tr>\n",
       "      <th>std</th>\n",
       "      <td>1.020165</td>\n",
       "      <td>90.451378</td>\n",
       "      <td>33.88767</td>\n",
       "      <td>5.41266</td>\n",
       "      <td>1.992792</td>\n",
       "      <td>0.470657</td>\n",
       "      <td>0.456923</td>\n",
       "      <td>0.494668</td>\n",
       "      <td>1.496863</td>\n",
       "      <td>0.356643</td>\n",
       "    </tr>\n",
       "    <tr>\n",
       "      <th>min</th>\n",
       "      <td>1.000000</td>\n",
       "      <td>0.000000</td>\n",
       "      <td>0.00000</td>\n",
       "      <td>0.00000</td>\n",
       "      <td>1.000000</td>\n",
       "      <td>0.000000</td>\n",
       "      <td>0.000000</td>\n",
       "      <td>0.000000</td>\n",
       "      <td>4.670000</td>\n",
       "      <td>0.000000</td>\n",
       "    </tr>\n",
       "    <tr>\n",
       "      <th>25%</th>\n",
       "      <td>1.000000</td>\n",
       "      <td>21.000000</td>\n",
       "      <td>5.00000</td>\n",
       "      <td>5.00000</td>\n",
       "      <td>2.000000</td>\n",
       "      <td>0.000000</td>\n",
       "      <td>0.000000</td>\n",
       "      <td>0.000000</td>\n",
       "      <td>5.620000</td>\n",
       "      <td>0.000000</td>\n",
       "    </tr>\n",
       "    <tr>\n",
       "      <th>50%</th>\n",
       "      <td>1.000000</td>\n",
       "      <td>51.000000</td>\n",
       "      <td>17.00000</td>\n",
       "      <td>9.00000</td>\n",
       "      <td>4.000000</td>\n",
       "      <td>1.000000</td>\n",
       "      <td>0.000000</td>\n",
       "      <td>0.000000</td>\n",
       "      <td>7.570000</td>\n",
       "      <td>0.000000</td>\n",
       "    </tr>\n",
       "    <tr>\n",
       "      <th>75%</th>\n",
       "      <td>2.000000</td>\n",
       "      <td>115.000000</td>\n",
       "      <td>28.00000</td>\n",
       "      <td>13.00000</td>\n",
       "      <td>5.000000</td>\n",
       "      <td>1.000000</td>\n",
       "      <td>1.000000</td>\n",
       "      <td>1.000000</td>\n",
       "      <td>8.830000</td>\n",
       "      <td>0.000000</td>\n",
       "    </tr>\n",
       "    <tr>\n",
       "      <th>max</th>\n",
       "      <td>9.000000</td>\n",
       "      <td>867.000000</td>\n",
       "      <td>778.00000</td>\n",
       "      <td>23.00000</td>\n",
       "      <td>7.000000</td>\n",
       "      <td>1.000000</td>\n",
       "      <td>1.000000</td>\n",
       "      <td>1.000000</td>\n",
       "      <td>9.500000</td>\n",
       "      <td>1.000000</td>\n",
       "    </tr>\n",
       "  </tbody>\n",
       "</table>\n",
       "</div>"
      ],
      "text/plain": [
       "       num_passengers  purchase_lead  length_of_stay  flight_hour  \\\n",
       "count    50000.000000   50000.000000     50000.00000  50000.00000   \n",
       "mean         1.591240      84.940480        23.04456      9.06634   \n",
       "std          1.020165      90.451378        33.88767      5.41266   \n",
       "min          1.000000       0.000000         0.00000      0.00000   \n",
       "25%          1.000000      21.000000         5.00000      5.00000   \n",
       "50%          1.000000      51.000000        17.00000      9.00000   \n",
       "75%          2.000000     115.000000        28.00000     13.00000   \n",
       "max          9.000000     867.000000       778.00000     23.00000   \n",
       "\n",
       "         flight_day  wants_extra_baggage  wants_preferred_seat  \\\n",
       "count  50000.000000         50000.000000          50000.000000   \n",
       "mean       3.814420             0.668780              0.296960   \n",
       "std        1.992792             0.470657              0.456923   \n",
       "min        1.000000             0.000000              0.000000   \n",
       "25%        2.000000             0.000000              0.000000   \n",
       "50%        4.000000             1.000000              0.000000   \n",
       "75%        5.000000             1.000000              1.000000   \n",
       "max        7.000000             1.000000              1.000000   \n",
       "\n",
       "       wants_in_flight_meals  flight_duration  booking_complete  \n",
       "count           50000.000000     50000.000000      50000.000000  \n",
       "mean                0.427140         7.277561          0.149560  \n",
       "std                 0.494668         1.496863          0.356643  \n",
       "min                 0.000000         4.670000          0.000000  \n",
       "25%                 0.000000         5.620000          0.000000  \n",
       "50%                 0.000000         7.570000          0.000000  \n",
       "75%                 1.000000         8.830000          0.000000  \n",
       "max                 1.000000         9.500000          1.000000  "
      ]
     },
     "execution_count": 14,
     "metadata": {},
     "output_type": "execute_result"
    }
   ],
   "source": [
    "df.describe()"
   ]
  },
  {
   "cell_type": "markdown",
   "id": "f2cdaf4e",
   "metadata": {},
   "source": [
    "# Handling missing values"
   ]
  },
  {
   "cell_type": "code",
   "execution_count": 15,
   "id": "2a02e0d8",
   "metadata": {},
   "outputs": [
    {
     "data": {
      "text/plain": [
       "num_passengers           0\n",
       "sales_channel            0\n",
       "trip_type                0\n",
       "purchase_lead            0\n",
       "length_of_stay           0\n",
       "flight_hour              0\n",
       "flight_day               0\n",
       "route                    0\n",
       "booking_origin           0\n",
       "wants_extra_baggage      0\n",
       "wants_preferred_seat     0\n",
       "wants_in_flight_meals    0\n",
       "flight_duration          0\n",
       "booking_complete         0\n",
       "dtype: int64"
      ]
     },
     "execution_count": 15,
     "metadata": {},
     "output_type": "execute_result"
    }
   ],
   "source": [
    "df.isnull().sum()\n"
   ]
  },
  {
   "cell_type": "markdown",
   "id": "dd38c76a",
   "metadata": {},
   "source": [
    "# Encoding categorical variables"
   ]
  },
  {
   "cell_type": "code",
   "execution_count": 41,
   "id": "92892ead",
   "metadata": {},
   "outputs": [
    {
     "name": "stdout",
     "output_type": "stream",
     "text": [
      "   num_passengers  trip_type  purchase_lead  length_of_stay  flight_hour  \\\n",
      "0             2.0        0.0          262.0            19.0          7.0   \n",
      "1             1.0        0.0          112.0            20.0          3.0   \n",
      "2             2.0        0.0          243.0            22.0         17.0   \n",
      "3             1.0        0.0           96.0            31.0          4.0   \n",
      "4             2.0        0.0           68.0            22.0         15.0   \n",
      "\n",
      "   wants_extra_baggage  wants_preferred_seat  wants_in_flight_meals  \\\n",
      "0                  1.0                   0.0                    0.0   \n",
      "1                  0.0                   0.0                    0.0   \n",
      "2                  1.0                   1.0                    0.0   \n",
      "3                  0.0                   0.0                    1.0   \n",
      "4                  1.0                   0.0                    1.0   \n",
      "\n",
      "   flight_duration  booking_complete  ...  booking_origin_94  \\\n",
      "0             5.52               0.0  ...                  0   \n",
      "1             5.52               0.0  ...                  0   \n",
      "2             5.52               0.0  ...                  0   \n",
      "3             5.52               0.0  ...                  0   \n",
      "4             5.52               0.0  ...                  0   \n",
      "\n",
      "   booking_origin_95  booking_origin_96  booking_origin_97  booking_origin_98  \\\n",
      "0                  0                  0                  0                  0   \n",
      "1                  0                  0                  0                  0   \n",
      "2                  0                  0                  0                  0   \n",
      "3                  0                  0                  0                  0   \n",
      "4                  0                  0                  0                  0   \n",
      "\n",
      "   booking_origin_99  booking_origin_100  booking_origin_101  \\\n",
      "0                  0                   0                   0   \n",
      "1                  0                   0                   0   \n",
      "2                  0                   0                   0   \n",
      "3                  0                   0                   0   \n",
      "4                  0                   0                   0   \n",
      "\n",
      "   booking_origin_102  booking_origin_103  \n",
      "0                   0                   0  \n",
      "1                   0                   0  \n",
      "2                   0                   0  \n",
      "3                   0                   0  \n",
      "4                   0                   0  \n",
      "\n",
      "[5 rows x 920 columns]\n"
     ]
    }
   ],
   "source": [
    "# Define the columns that need to be one-hot encoded (based on what exists in the dataframe)\n",
    "columns_to_encode = ['booking_origin', 'flight_day']\n",
    "\n",
    "# One-hot encode only the columns that exist in the dataframe\n",
    "df_encoded = pd.get_dummies(df, columns=[col for col in columns_to_encode if col in df.columns])\n",
    "\n",
    "# Verify the result\n",
    "print(df_encoded.head())\n"
   ]
  },
  {
   "cell_type": "markdown",
   "id": "2d8db986",
   "metadata": {},
   "source": [
    "# Split the data into training and testing sets"
   ]
  },
  {
   "cell_type": "code",
   "execution_count": 42,
   "id": "2a3be01d",
   "metadata": {},
   "outputs": [
    {
     "name": "stdout",
     "output_type": "stream",
     "text": [
      "Training set shape: (40000, 919)\n",
      "Test set shape: (10000, 919)\n"
     ]
    }
   ],
   "source": [
    "from sklearn.model_selection import train_test_split\n",
    "\n",
    "# Features (X) and target variable (y)\n",
    "X = df_encoded.drop(columns=['booking_complete'])  # All columns except the target\n",
    "y = df_encoded['booking_complete']  # The target variable\n",
    "\n",
    "# Split the data into training and testing sets\n",
    "X_train, X_test, y_train, y_test = train_test_split(X, y, test_size=0.2, random_state=42)\n",
    "\n",
    "# Check the shape of the splits\n",
    "print(f\"Training set shape: {X_train.shape}\")\n",
    "print(f\"Test set shape: {X_test.shape}\")\n",
    "\n"
   ]
  },
  {
   "cell_type": "markdown",
   "id": "7ced7354",
   "metadata": {},
   "source": [
    "# Train the Random Forest model"
   ]
  },
  {
   "cell_type": "code",
   "execution_count": 44,
   "id": "92660ca0",
   "metadata": {},
   "outputs": [
    {
     "name": "stdout",
     "output_type": "stream",
     "text": [
      "Accuracy (with balanced class weight): 0.8554\n",
      "              precision    recall  f1-score   support\n",
      "\n",
      "         0.0       0.87      0.98      0.92      8520\n",
      "         1.0       0.55      0.12      0.20      1480\n",
      "\n",
      "    accuracy                           0.86     10000\n",
      "   macro avg       0.71      0.55      0.56     10000\n",
      "weighted avg       0.82      0.86      0.81     10000\n",
      "\n"
     ]
    }
   ],
   "source": [
    "from sklearn.ensemble import RandomForestClassifier\n",
    "\n",
    "# Initialize the model with class_weight='balanced'\n",
    "rf_model_balanced = RandomForestClassifier(n_estimators=100, random_state=42, class_weight='balanced')\n",
    "\n",
    "# Train the model\n",
    "rf_model_balanced.fit(X_train, y_train)\n",
    "\n",
    "# Predict on the test set\n",
    "y_pred_balanced = rf_model_balanced.predict(X_test)\n",
    "\n",
    "# Evaluate the model\n",
    "from sklearn.metrics import classification_report, accuracy_score\n",
    "\n",
    "# Accuracy and classification report\n",
    "accuracy_balanced = accuracy_score(y_test, y_pred_balanced)\n",
    "print(f\"Accuracy (with balanced class weight): {accuracy_balanced:.4f}\")\n",
    "print(classification_report(y_test, y_pred_balanced))\n"
   ]
  },
  {
   "cell_type": "markdown",
   "id": "299e19e3",
   "metadata": {},
   "source": [
    "# few feature engineering that could improve the model"
   ]
  },
  {
   "cell_type": "markdown",
   "id": "e2cf42dc",
   "metadata": {},
   "source": [
    "# One-Hot Encoding Categorical Variables"
   ]
  },
  {
   "cell_type": "code",
   "execution_count": 48,
   "id": "6a7cc4d0",
   "metadata": {},
   "outputs": [
    {
     "name": "stdout",
     "output_type": "stream",
     "text": [
      "Index(['num_passengers', 'purchase_lead', 'length_of_stay', 'flight_hour',\n",
      "       'flight_duration', 'booking_complete', 'sales_channel_Mobile',\n",
      "       'route_AKLHGH', 'route_AKLHND', 'route_AKLICN',\n",
      "       ...\n",
      "       'booking_origin_97', 'booking_origin_98', 'booking_origin_99',\n",
      "       'booking_origin_100', 'booking_origin_101', 'booking_origin_102',\n",
      "       'booking_origin_103', 'wants_extra_baggage_1.0',\n",
      "       'wants_preferred_seat_1.0', 'wants_in_flight_meals_1.0'],\n",
      "      dtype='object', length=919)\n"
     ]
    }
   ],
   "source": [
    "# Updated columns to encode (excluding 'flight_day' since it is already numeric)\n",
    "columns_to_encode = ['trip_type', 'booking_origin', 'wants_extra_baggage', \n",
    "                     'wants_preferred_seat', 'wants_in_flight_meals']\n",
    "\n",
    "# Apply one-hot encoding to the relevant columns\n",
    "df_encoded = pd.get_dummies(df, columns=columns_to_encode, drop_first=True)\n",
    "\n",
    "# Display the new column names\n",
    "print(df_encoded.columns)\n"
   ]
  },
  {
   "cell_type": "markdown",
   "id": "2241c9fe",
   "metadata": {},
   "source": [
    "# Create \"Time of Day\" from flight_hour"
   ]
  },
  {
   "cell_type": "code",
   "execution_count": 49,
   "id": "40c19c08",
   "metadata": {},
   "outputs": [
    {
     "name": "stdout",
     "output_type": "stream",
     "text": [
      "['Morning' 'Night' 'Afternoon' 'Evening']\n"
     ]
    }
   ],
   "source": [
    "# Define a function to categorize the flight hour into 'Time of Day'\n",
    "def get_time_of_day(hour):\n",
    "    if 6 <= hour < 12:\n",
    "        return 'Morning'\n",
    "    elif 12 <= hour < 18:\n",
    "        return 'Afternoon'\n",
    "    elif 18 <= hour < 21:\n",
    "        return 'Evening'\n",
    "    else:\n",
    "        return 'Night'\n",
    "\n",
    "# Apply the function to create a new column 'time_of_day'\n",
    "df['time_of_day'] = df['flight_hour'].apply(get_time_of_day)\n",
    "\n",
    "# Check the unique values to see how it looks\n",
    "print(df['time_of_day'].unique())\n"
   ]
  },
  {
   "cell_type": "markdown",
   "id": "86944ac7",
   "metadata": {},
   "source": [
    "# Bucket purchase_lead and length_of_stay"
   ]
  },
  {
   "cell_type": "code",
   "execution_count": 50,
   "id": "ab13e3e3",
   "metadata": {},
   "outputs": [
    {
     "name": "stdout",
     "output_type": "stream",
     "text": [
      "   purchase_lead purchase_lead_buckets  length_of_stay length_of_stay_buckets\n",
      "0          262.0        Very long-term            19.0              Long stay\n",
      "1          112.0             Long-term            20.0              Long stay\n",
      "2          243.0        Very long-term            22.0              Long stay\n",
      "3           96.0             Long-term            31.0              Long stay\n",
      "4           68.0           Medium-term            22.0              Long stay\n"
     ]
    }
   ],
   "source": [
    "# Bucket 'purchase_lead'\n",
    "purchase_lead_bins = [0, 30, 90, 180, float('inf')]\n",
    "purchase_lead_labels = ['Short-term', 'Medium-term', 'Long-term', 'Very long-term']\n",
    "df['purchase_lead_buckets'] = pd.cut(df['purchase_lead'], bins=purchase_lead_bins, labels=purchase_lead_labels)\n",
    "\n",
    "# Bucket 'length_of_stay'\n",
    "length_of_stay_bins = [0, 3, 7, float('inf')]\n",
    "length_of_stay_labels = ['Short stay', 'Medium stay', 'Long stay']\n",
    "df['length_of_stay_buckets'] = pd.cut(df['length_of_stay'], bins=length_of_stay_bins, labels=length_of_stay_labels)\n",
    "\n",
    "# Check the new columns\n",
    "print(df[['purchase_lead', 'purchase_lead_buckets', 'length_of_stay', 'length_of_stay_buckets']].head())\n"
   ]
  },
  {
   "cell_type": "markdown",
   "id": "bd806882",
   "metadata": {},
   "source": [
    "# Combine Customer Preferences (wants_extra_baggage, wants_preferred_seat, wants_in_flight_meals)"
   ]
  },
  {
   "cell_type": "code",
   "execution_count": 51,
   "id": "74c16b81",
   "metadata": {},
   "outputs": [
    {
     "name": "stdout",
     "output_type": "stream",
     "text": [
      "   wants_extra_baggage  wants_preferred_seat  wants_in_flight_meals  \\\n",
      "0                  1.0                   0.0                    0.0   \n",
      "1                  0.0                   0.0                    0.0   \n",
      "2                  1.0                   1.0                    0.0   \n",
      "3                  0.0                   0.0                    1.0   \n",
      "4                  1.0                   0.0                    1.0   \n",
      "\n",
      "   total_preferences  \n",
      "0                1.0  \n",
      "1                0.0  \n",
      "2                2.0  \n",
      "3                1.0  \n",
      "4                2.0  \n"
     ]
    }
   ],
   "source": [
    "# Combine the customer preferences into a single column 'total_preferences'\n",
    "df['total_preferences'] = df['wants_extra_baggage'] + df['wants_preferred_seat'] + df['wants_in_flight_meals']\n",
    "\n",
    "# Check the new column\n",
    "print(df[['wants_extra_baggage', 'wants_preferred_seat', 'wants_in_flight_meals', 'total_preferences']].head())\n"
   ]
  },
  {
   "cell_type": "markdown",
   "id": "e9230ddf",
   "metadata": {},
   "source": [
    "# Split the data into training and test sets again"
   ]
  },
  {
   "cell_type": "code",
   "execution_count": 52,
   "id": "55379b8a",
   "metadata": {},
   "outputs": [
    {
     "name": "stdout",
     "output_type": "stream",
     "text": [
      "Training set shape: (40000, 820)\n",
      "Test set shape: (10000, 820)\n"
     ]
    }
   ],
   "source": [
    "from sklearn.model_selection import train_test_split\n",
    "\n",
    "# Separate features (X) and target (y)\n",
    "X = df.drop(columns=['booking_complete'])  # Features\n",
    "y = df['booking_complete']  # Target variable\n",
    "\n",
    "# Split the data into training and test sets (80% train, 20% test)\n",
    "X_train, X_test, y_train, y_test = train_test_split(X, y, test_size=0.2, random_state=42)\n",
    "\n",
    "# Check the shape of the split data\n",
    "print(f'Training set shape: {X_train.shape}')\n",
    "print(f'Test set shape: {X_test.shape}')\n"
   ]
  },
  {
   "cell_type": "markdown",
   "id": "7bdb64d9",
   "metadata": {},
   "source": [
    "# One-Hot Encode the categorical features"
   ]
  },
  {
   "cell_type": "code",
   "execution_count": 54,
   "id": "cf4fc945",
   "metadata": {},
   "outputs": [
    {
     "name": "stdout",
     "output_type": "stream",
     "text": [
      "Index(['num_passengers', 'trip_type', 'purchase_lead', 'length_of_stay',\n",
      "       'flight_hour', 'booking_origin', 'wants_extra_baggage',\n",
      "       'wants_preferred_seat', 'wants_in_flight_meals', 'flight_duration',\n",
      "       ...\n",
      "       'flight_day_7', 'total_preferences', 'time_of_day_Evening',\n",
      "       'time_of_day_Morning', 'time_of_day_Night',\n",
      "       'purchase_lead_buckets_Medium-term', 'purchase_lead_buckets_Long-term',\n",
      "       'purchase_lead_buckets_Very long-term',\n",
      "       'length_of_stay_buckets_Medium stay',\n",
      "       'length_of_stay_buckets_Long stay'],\n",
      "      dtype='object', length=825)\n"
     ]
    }
   ],
   "source": [
    "# One-Hot Encode categorical features\n",
    "X_encoded = pd.get_dummies(X, drop_first=True)\n",
    "\n",
    "# Check the columns after encoding\n",
    "print(X_encoded.columns)\n"
   ]
  },
  {
   "cell_type": "markdown",
   "id": "e9a2fac2",
   "metadata": {},
   "source": [
    "# Train the Random Forest model"
   ]
  },
  {
   "cell_type": "code",
   "execution_count": 55,
   "id": "322bd12d",
   "metadata": {},
   "outputs": [
    {
     "name": "stdout",
     "output_type": "stream",
     "text": [
      "Model accuracy: 0.8532\n"
     ]
    }
   ],
   "source": [
    "from sklearn.ensemble import RandomForestClassifier\n",
    "\n",
    "# Initialize the Random Forest model\n",
    "rf_model = RandomForestClassifier(random_state=42, class_weight='balanced')  # Balanced to handle class imbalance\n",
    "\n",
    "# Train the model\n",
    "rf_model.fit(X_encoded.loc[X_train.index], y_train)\n",
    "\n",
    "# Evaluate the model on the test set\n",
    "accuracy = rf_model.score(X_encoded.loc[X_test.index], y_test)\n",
    "print(f'Model accuracy: {accuracy:.4f}')\n"
   ]
  },
  {
   "cell_type": "markdown",
   "id": "e59fc509",
   "metadata": {},
   "source": [
    "# Evaluate the Model using Classification Report"
   ]
  },
  {
   "cell_type": "code",
   "execution_count": 56,
   "id": "3fb6a2cb",
   "metadata": {},
   "outputs": [
    {
     "name": "stdout",
     "output_type": "stream",
     "text": [
      "              precision    recall  f1-score   support\n",
      "\n",
      "         0.0       0.86      0.99      0.92      8520\n",
      "         1.0       0.52      0.09      0.15      1480\n",
      "\n",
      "    accuracy                           0.85     10000\n",
      "   macro avg       0.69      0.54      0.54     10000\n",
      "weighted avg       0.81      0.85      0.81     10000\n",
      "\n"
     ]
    }
   ],
   "source": [
    "from sklearn.metrics import classification_report\n",
    "\n",
    "# Predictions on the test set\n",
    "y_pred = rf_model.predict(X_encoded.loc[X_test.index])\n",
    "\n",
    "# Generate the classification report\n",
    "print(classification_report(y_test, y_pred))\n"
   ]
  },
  {
   "cell_type": "markdown",
   "id": "c167bf9e",
   "metadata": {},
   "source": [
    "# Feature Importance Visualization"
   ]
  },
  {
   "cell_type": "code",
   "execution_count": 57,
   "id": "4273d2fd",
   "metadata": {},
   "outputs": [
    {
     "data": {
      "image/png": "[encoded data removed]",
      "text/plain": [
       "<Figure size 1000x600 with 1 Axes>"
      ]
     },
     "metadata": {},
     "output_type": "display_data"
    }
   ],
   "source": [
    "import matplotlib.pyplot as plt\n",
    "\n",
    "# Get feature importance\n",
    "feature_importances = rf_model.feature_importances_\n",
    "\n",
    "# Create a DataFrame to display features and their importance\n",
    "feature_importance_df = pd.DataFrame({\n",
    "    'Feature': X_encoded.columns,\n",
    "    'Importance': feature_importances\n",
    "})\n",
    "\n",
    "# Sort the features by importance\n",
    "feature_importance_df = feature_importance_df.sort_values(by='Importance', ascending=False)\n",
    "\n",
    "# Plot the top 10 important features\n",
    "plt.figure(figsize=(10, 6))\n",
    "plt.barh(feature_importance_df['Feature'][:10], feature_importance_df['Importance'][:10])\n",
    "plt.xlabel('Importance')\n",
    "plt.title('Top 10 Important Features')\n",
    "plt.gca().invert_yaxis()  # Highest importance at the top\n",
    "plt.show()\n"
   ]
  },
  {
   "cell_type": "code",
   "execution_count": null,
   "id": "b59a6ad3",
   "metadata": {},
   "outputs": [],
   "source": []
  },
  {
   "cell_type": "code",
   "execution_count": null,
   "id": "71e4dce5",
   "metadata": {},
   "outputs": [],
   "source": []
  },
  {
   "cell_type": "code",
   "execution_count": null,
   "id": "9e783703",
   "metadata": {},
   "outputs": [],
   "source": []
  }
 ],
 "metadata": {
  "kernelspec": {
   "display_name": "Python 3 (ipykernel)",
   "language": "python",
   "name": "python3"
  },
  "language_info": {
   "codemirror_mode": {
    "name": "ipython",
    "version": 3
   },
   "file_extension": ".py",
   "mimetype": "text/x-python",
   "name": "python",
   "nbconvert_exporter": "python",
   "pygments_lexer": "ipython3",
   "version": "3.10.9"
  }
 },
 "nbformat": 4,
 "nbformat_minor": 5
}
